{
 "cells": [
  {
   "cell_type": "code",
   "execution_count": 1,
   "metadata": {},
   "outputs": [
    {
     "name": "stderr",
     "output_type": "stream",
     "text": [
      "2023-08-18 15:17:20.256752: W tensorflow/stream_executor/platform/default/dso_loader.cc:64] Could not load dynamic library 'libcudart.so.11.0'; dlerror: libcudart.so.11.0: cannot open shared object file: No such file or directory; LD_LIBRARY_PATH: /usr/local/lib64:\n",
      "2023-08-18 15:17:20.256814: I tensorflow/stream_executor/cuda/cudart_stub.cc:29] Ignore above cudart dlerror if you do not have a GPU set up on your machine.\n"
     ]
    }
   ],
   "source": [
    "import numpy as np\n",
    "from matplotlib import pyplot as plt\n",
    "import matplotlib as mpl\n",
    "import tensorflow as tf\n",
    "import keras\n",
    "#mpl.use('pdf')\n",
    "import sys\n",
    "sys.path.append(\"../\")\n",
    "import copy\n",
    "from Plotting.generate_database import ResultsDatabaseGenerator\n",
    "from common_packages.utilities import get_equivalent_classical_layer_size, get_num_parameters_per_quantum_layer\n",
    "from data import generate_synthetic_dataset_easy\n",
    "from Plotting.Plot import BasicPlot, MultiPlot\n",
    "tf.compat.v1.enable_eager_execution()\n",
    "import scipy\n",
    "import pandas as pd\n",
    "import seaborn as sns\n",
    "colors =   [\"#5dd448\",\n",
    "            \"#bfa900\",\n",
    "            \"#ec742f\",\n",
    "            \"#e9496f\",\n",
    "            \"#b04ca4\",]\n",
    "\n",
    "colors = [\"#332288\", \"#88CCEE\", \"#44AA99\", \"#117733\", \"#999933\", \"#DDCC77\", \"#CC6677\", \"#882255\", \"#AA4499\"]\n",
    "mpl.rcParams['axes.prop_cycle'] = mpl.cycler(color=colors)\n",
    "mpl.rcParams['mathtext.fontset'] = 'stix'\n",
    "mpl.rcParams[\"font.family\"] = \"sans-serif\"\n",
    "plt.rcParams[\"font.size\"] = 12\n",
    "plt.rcParams[\"axes.linewidth\"] = 0.5\n",
    "\n",
    "%load_ext autoreload\n",
    "%autoreload 2"
   ]
  },
  {
   "cell_type": "code",
   "execution_count": 37,
   "metadata": {},
   "outputs": [
    {
     "ename": "AttributeError",
     "evalue": "in user code:\n\n    File \"/tmp/ipykernel_955389/3833745908.py\", line 11, in get_hess_diag  *\n        return grads, t2.jacobian(grads, model.trainable_variables[0][0])\n\n    AttributeError: 'list' object has no attribute 'shape'\n",
     "output_type": "error",
     "traceback": [
      "\u001b[0;31m---------------------------------------------------------------------------\u001b[0m",
      "\u001b[0;31mAttributeError\u001b[0m                            Traceback (most recent call last)",
      "\u001b[1;32m/home/st4eve/Hybrid_Network_Models/synthetic_data/FisherInformation.ipynb Cell 2\u001b[0m in \u001b[0;36m2\n\u001b[1;32m     <a href='vscode-notebook-cell://wsl%2Bubuntu/home/st4eve/Hybrid_Network_Models/synthetic_data/FisherInformation.ipynb#W1sdnNjb2RlLXJlbW90ZQ%3D%3D?line=25'>26</a>\u001b[0m y_test \u001b[39m=\u001b[39m y_test[y_test[:,\u001b[39m0\u001b[39m]\u001b[39m==\u001b[39m\u001b[39m1\u001b[39m]\n\u001b[1;32m     <a href='vscode-notebook-cell://wsl%2Bubuntu/home/st4eve/Hybrid_Network_Models/synthetic_data/FisherInformation.ipynb#W1sdnNjb2RlLXJlbW90ZQ%3D%3D?line=26'>27</a>\u001b[0m outputs \u001b[39m=\u001b[39m model(x_train)\n\u001b[0;32m---> <a href='vscode-notebook-cell://wsl%2Bubuntu/home/st4eve/Hybrid_Network_Models/synthetic_data/FisherInformation.ipynb#W1sdnNjb2RlLXJlbW90ZQ%3D%3D?line=28'>29</a>\u001b[0m \u001b[39mprint\u001b[39m(get_hess_diag(model, x_train, y_train))\n\u001b[1;32m     <a href='vscode-notebook-cell://wsl%2Bubuntu/home/st4eve/Hybrid_Network_Models/synthetic_data/FisherInformation.ipynb#W1sdnNjb2RlLXJlbW90ZQ%3D%3D?line=30'>31</a>\u001b[0m df \u001b[39m=\u001b[39m pd\u001b[39m.\u001b[39mDataFrame(columns\u001b[39m=\u001b[39m[\u001b[39m'\u001b[39m\u001b[39mx1\u001b[39m\u001b[39m'\u001b[39m, \u001b[39m'\u001b[39m\u001b[39mx2\u001b[39m\u001b[39m'\u001b[39m, \u001b[39m'\u001b[39m\u001b[39mx3\u001b[39m\u001b[39m'\u001b[39m, \u001b[39m'\u001b[39m\u001b[39mx4\u001b[39m\u001b[39m'\u001b[39m, \u001b[39m'\u001b[39m\u001b[39my\u001b[39m\u001b[39m'\u001b[39m])\n\u001b[1;32m     <a href='vscode-notebook-cell://wsl%2Bubuntu/home/st4eve/Hybrid_Network_Models/synthetic_data/FisherInformation.ipynb#W1sdnNjb2RlLXJlbW90ZQ%3D%3D?line=31'>32</a>\u001b[0m df[\u001b[39m'\u001b[39m\u001b[39mx1\u001b[39m\u001b[39m'\u001b[39m] \u001b[39m=\u001b[39m x_train[:,\u001b[39m0\u001b[39m]\n",
      "File \u001b[0;32m~/miniconda3/envs/CVTrain/lib/python3.10/site-packages/tensorflow/python/util/traceback_utils.py:153\u001b[0m, in \u001b[0;36mfilter_traceback.<locals>.error_handler\u001b[0;34m(*args, **kwargs)\u001b[0m\n\u001b[1;32m    151\u001b[0m \u001b[39mexcept\u001b[39;00m \u001b[39mException\u001b[39;00m \u001b[39mas\u001b[39;00m e:\n\u001b[1;32m    152\u001b[0m   filtered_tb \u001b[39m=\u001b[39m _process_traceback_frames(e\u001b[39m.\u001b[39m__traceback__)\n\u001b[0;32m--> 153\u001b[0m   \u001b[39mraise\u001b[39;00m e\u001b[39m.\u001b[39mwith_traceback(filtered_tb) \u001b[39mfrom\u001b[39;00m \u001b[39mNone\u001b[39m\n\u001b[1;32m    154\u001b[0m \u001b[39mfinally\u001b[39;00m:\n\u001b[1;32m    155\u001b[0m   \u001b[39mdel\u001b[39;00m filtered_tb\n",
      "File \u001b[0;32m~/miniconda3/envs/CVTrain/lib/python3.10/site-packages/tensorflow/python/framework/func_graph.py:1147\u001b[0m, in \u001b[0;36mfunc_graph_from_py_func.<locals>.autograph_handler\u001b[0;34m(*args, **kwargs)\u001b[0m\n\u001b[1;32m   1145\u001b[0m \u001b[39mexcept\u001b[39;00m \u001b[39mException\u001b[39;00m \u001b[39mas\u001b[39;00m e:  \u001b[39m# pylint:disable=broad-except\u001b[39;00m\n\u001b[1;32m   1146\u001b[0m   \u001b[39mif\u001b[39;00m \u001b[39mhasattr\u001b[39m(e, \u001b[39m\"\u001b[39m\u001b[39mag_error_metadata\u001b[39m\u001b[39m\"\u001b[39m):\n\u001b[0;32m-> 1147\u001b[0m     \u001b[39mraise\u001b[39;00m e\u001b[39m.\u001b[39mag_error_metadata\u001b[39m.\u001b[39mto_exception(e)\n\u001b[1;32m   1148\u001b[0m   \u001b[39melse\u001b[39;00m:\n\u001b[1;32m   1149\u001b[0m     \u001b[39mraise\u001b[39;00m\n",
      "\u001b[0;31mAttributeError\u001b[0m: in user code:\n\n    File \"/tmp/ipykernel_955389/3833745908.py\", line 11, in get_hess_diag  *\n        return grads, t2.jacobian(grads, model.trainable_variables[0][0])\n\n    AttributeError: 'list' object has no attribute 'shape'\n"
     ]
    }
   ],
   "source": [
    "@tf.function\n",
    "def get_hess_diag(model, inputs, outputs):\n",
    "    with tf.GradientTape() as t1:\n",
    "        with tf.GradientTape() as t2:\n",
    "            t2.watch(model.trainable_variables)\n",
    "            t1.watch(model.trainable_variables)\n",
    "            loss = tf.keras.losses.KLDivergence(keras.losses.losses_utils.ReductionV2.NONE)\n",
    "            loss = loss(outputs, model(inputs))\n",
    "        grads = t1.gradient(loss, model.trainable_variables) \n",
    "    return grads, t2.jacobian(grads, model.trainable_variables)\n",
    "\n",
    "\n",
    "model = keras.Sequential([\n",
    "    keras.layers.Dense(4, activation='tanh'),\n",
    "    keras.layers.Dense(2, activation='softmax')])\n",
    "\n",
    "model.compile(optimizer='adam', loss='categorical_crossentropy', metrics=['accuracy'])\n",
    "(x_train, y_train), (x_test, y_test) = generate_synthetic_dataset_easy(num_datapoints=100, n_features=4, n_classes=2)\n",
    "x_train = np.array(x_train)\n",
    "y_train = np.array(y_train)\n",
    "x_test = np.array(x_test)\n",
    "y_test = np.array(y_test)\n",
    "\n",
    "x_test = x_test[y_test[:,0]==1]\n",
    "y_test = y_test[y_test[:,0]==1]\n",
    "outputs = model(x_train)\n",
    "\n",
    "print(get_hess_diag(model, x_train, y_train))\n",
    "\n",
    "df = pd.DataFrame(columns=['x1', 'x2', 'x3', 'x4', 'y'])\n",
    "df['x1'] = x_train[:,0]\n",
    "df['x2'] = x_train[:,1]\n",
    "df['x3'] = x_train[:,2]\n",
    "df['x4'] = x_train[:,3]\n",
    "df['y'] = np.argmax(y_train, axis=1)\n",
    "\n"
   ]
  }
 ],
 "metadata": {
  "kernelspec": {
   "display_name": "CVTrain",
   "language": "python",
   "name": "python3"
  },
  "language_info": {
   "codemirror_mode": {
    "name": "ipython",
    "version": 3
   },
   "file_extension": ".py",
   "mimetype": "text/x-python",
   "name": "python",
   "nbconvert_exporter": "python",
   "pygments_lexer": "ipython3",
   "version": "3.10.12"
  },
  "orig_nbformat": 4
 },
 "nbformat": 4,
 "nbformat_minor": 2
}

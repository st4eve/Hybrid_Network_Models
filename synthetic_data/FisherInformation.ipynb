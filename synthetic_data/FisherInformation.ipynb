{
 "cells": [
  {
   "cell_type": "code",
   "execution_count": 2,
   "metadata": {},
   "outputs": [
    {
     "name": "stderr",
     "output_type": "stream",
     "text": [
      "2023-08-21 17:20:48.326804: W tensorflow/stream_executor/platform/default/dso_loader.cc:64] Could not load dynamic library 'libcudart.so.11.0'; dlerror: libcudart.so.11.0: cannot open shared object file: No such file or directory; LD_LIBRARY_PATH: /usr/local/lib64:\n",
      "2023-08-21 17:20:48.326994: I tensorflow/stream_executor/cuda/cudart_stub.cc:29] Ignore above cudart dlerror if you do not have a GPU set up on your machine.\n"
     ]
    }
   ],
   "source": [
    "import numpy as np\n",
    "from matplotlib import pyplot as plt\n",
    "import matplotlib as mpl\n",
    "import tensorflow as tf\n",
    "import keras\n",
    "#mpl.use('pdf')\n",
    "import sys\n",
    "sys.path.append(\"../\")\n",
    "import copy\n",
    "from Plotting.generate_database import ResultsDatabaseGenerator\n",
    "from common_packages.utilities import get_equivalent_classical_layer_size, get_num_parameters_per_quantum_layer\n",
    "from data import generate_synthetic_dataset_easy\n",
    "from Plotting.Plot import BasicPlot, MultiPlot\n",
    "tf.compat.v1.enable_eager_execution()\n",
    "import scipy\n",
    "import pandas as pd\n",
    "import seaborn as sns\n",
    "colors =   [\"#5dd448\",\n",
    "            \"#bfa900\",\n",
    "            \"#ec742f\",\n",
    "            \"#e9496f\",\n",
    "            \"#b04ca4\",]\n",
    "\n",
    "colors = [\"#332288\", \"#88CCEE\", \"#44AA99\", \"#117733\", \"#999933\", \"#DDCC77\", \"#CC6677\", \"#882255\", \"#AA4499\"]\n",
    "mpl.rcParams['axes.prop_cycle'] = mpl.cycler(color=colors)\n",
    "mpl.rcParams['mathtext.fontset'] = 'stix'\n",
    "mpl.rcParams[\"font.family\"] = \"sans-serif\"\n",
    "plt.rcParams[\"font.size\"] = 12\n",
    "plt.rcParams[\"axes.linewidth\"] = 0.5\n",
    "\n",
    "%load_ext autoreload\n",
    "%autoreload 2"
   ]
  },
  {
   "cell_type": "code",
   "execution_count": 132,
   "metadata": {},
   "outputs": [
    {
     "name": "stdout",
     "output_type": "stream",
     "text": [
      "0.29469538 11.090028 -2.1096597\n"
     ]
    },
    {
     "data": {
      "text/plain": [
       "<Axes: ylabel='Count'>"
      ]
     },
     "execution_count": 132,
     "metadata": {},
     "output_type": "execute_result"
    },
    {
     "data": {
      "image/png": "[encoded data removed]",
      "text/plain": [
       "<Figure size 640x480 with 1 Axes>"
      ]
     },
     "metadata": {},
     "output_type": "display_data"
    }
   ],
   "source": [
    "@tf.function\n",
    "def get_hess(model, inputs, outputs):\n",
    "    with tf.GradientTape() as t1:\n",
    "        with tf.GradientTape() as t2:\n",
    "            t2.watch(model.trainable_variables)\n",
    "            t1.watch(model.trainable_variables)\n",
    "            loss = tf.keras.losses.KLDivergence(keras.losses.losses_utils.ReductionV2.NONE)\n",
    "            loss = loss(outputs, model(inputs))\n",
    "            grads = t1.gradient(loss, model.trainable_variables[0])\n",
    "        jac = t2.jacobian(grads, model.trainable_variables[0])\n",
    "    return grads, jac, loss\n",
    "\n",
    "tf.random.set_seed(42)\n",
    "\n",
    "model = keras.Sequential([\n",
    "    keras.layers.Dense(8, activation='relu', use_bias=False),\n",
    "    keras.layers.Dense(4, activation='softmax', use_bias=False)])\n",
    "\n",
    "model.compile(optimizer='adam', loss='categorical_crossentropy', metrics=['accuracy'])\n",
    "(x_train, y_train), (x_test, y_test) = generate_synthetic_dataset_easy(num_datapoints=100, n_features=8, n_classes=4)\n",
    "x_train = np.array(x_train)\n",
    "y_train = np.array(y_train)\n",
    "x_test = np.array(x_test)\n",
    "y_test = np.array(y_test)\n",
    "\n",
    "x_test = x_test[y_test[:,0]==1]\n",
    "y_test = y_test[y_test[:,0]==1]\n",
    "outputs = model(x_train)\n",
    "outputs = outputs + np.random.uniform(-0.1,0.1, size=outputs.shape)\n",
    "grads, jac, loss = get_hess(model, x_train, outputs)\n",
    "#print(grads, loss)\n",
    "#print(grads, -jac)\n",
    "\n",
    "df = pd.DataFrame(columns=['x1', 'x2', 'x3', 'x4', 'y'])\n",
    "df['x1'] = x_train[:,0]\n",
    "df['x2'] = x_train[:,1]\n",
    "df['x3'] = x_train[:,2]\n",
    "df['x4'] = x_train[:,3]\n",
    "df['y'] = np.argmax(y_train, axis=1)\n",
    "\n",
    "eigvals = np.linalg.eigvals(jac).flatten().real\n",
    "print(np.mean(eigvals), np.max(eigvals), np.min(eigvals))\n",
    "sns.histplot(eigvals.real, bins=10)"
   ]
  },
  {
   "cell_type": "code",
   "execution_count": null,
   "metadata": {},
   "outputs": [],
   "source": []
  }
 ],
 "metadata": {
  "kernelspec": {
   "display_name": "CVTrain",
   "language": "python",
   "name": "python3"
  },
  "language_info": {
   "codemirror_mode": {
    "name": "ipython",
    "version": 3
   },
   "file_extension": ".py",
   "mimetype": "text/x-python",
   "name": "python",
   "nbconvert_exporter": "python",
   "pygments_lexer": "ipython3",
   "version": "3.10.12"
  },
  "orig_nbformat": 4
 },
 "nbformat": 4,
 "nbformat_minor": 2
}

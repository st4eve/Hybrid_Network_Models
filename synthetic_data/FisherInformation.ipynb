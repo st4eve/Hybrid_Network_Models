{
 "cells": [
  {
   "cell_type": "code",
   "execution_count": 270,
   "metadata": {},
   "outputs": [
    {
     "name": "stdout",
     "output_type": "stream",
     "text": [
      "The autoreload extension is already loaded. To reload it, use:\n",
      "  %reload_ext autoreload\n"
     ]
    }
   ],
   "source": [
    "import numpy as np\n",
    "from matplotlib import pyplot as plt\n",
    "import matplotlib as mpl\n",
    "import tensorflow as tf\n",
    "import keras\n",
    "#mpl.use('pdf')\n",
    "import sys\n",
    "sys.path.append(\"../\")\n",
    "import copy\n",
    "from Plotting.generate_database import ResultsDatabaseGenerator\n",
    "from common_packages.utilities import get_equivalent_classical_layer_size, get_num_parameters_per_quantum_layer\n",
    "from data import generate_synthetic_dataset_easy\n",
    "from Plotting.Plot import BasicPlot, MultiPlot\n",
    "tf.compat.v1.enable_eager_execution()\n",
    "import scipy\n",
    "import pandas as pd\n",
    "import seaborn as sns\n",
    "colors =   [\"#5dd448\",\n",
    "            \"#bfa900\",\n",
    "            \"#ec742f\",\n",
    "            \"#e9496f\",\n",
    "            \"#b04ca4\",]\n",
    "\n",
    "colors = [\"#332288\", \"#88CCEE\", \"#44AA99\", \"#117733\", \"#999933\", \"#DDCC77\", \"#CC6677\", \"#882255\", \"#AA4499\"]\n",
    "mpl.rcParams['axes.prop_cycle'] = mpl.cycler(color=colors)\n",
    "mpl.rcParams['mathtext.fontset'] = 'stix'\n",
    "mpl.rcParams[\"font.family\"] = \"sans-serif\"\n",
    "plt.rcParams[\"font.size\"] = 12\n",
    "plt.rcParams[\"axes.linewidth\"] = 0.5\n",
    "\n",
    "tf.random.set_seed(None)\n",
    "\n",
    "%load_ext autoreload\n",
    "%autoreload 2"
   ]
  },
  {
   "cell_type": "code",
   "execution_count": 314,
   "metadata": {},
   "outputs": [
    {
     "name": "stdout",
     "output_type": "stream",
     "text": [
      "WARNING:tensorflow:5 out of the last 5 calls to <function get_fim at 0x7fb4c579c5e0> triggered tf.function retracing. Tracing is expensive and the excessive number of tracings could be due to (1) creating @tf.function repeatedly in a loop, (2) passing tensors with different shapes, (3) passing Python objects instead of tensors. For (1), please define your @tf.function outside of the loop. For (2), @tf.function has experimental_relax_shapes=True option that relaxes argument shapes that can avoid unnecessary retracing. For (3), please refer to https://www.tensorflow.org/guide/function#controlling_retracing and https://www.tensorflow.org/api_docs/python/tf/function for  more details.\n",
      "WARNING:tensorflow:6 out of the last 6 calls to <function get_fim at 0x7fb4c579c5e0> triggered tf.function retracing. Tracing is expensive and the excessive number of tracings could be due to (1) creating @tf.function repeatedly in a loop, (2) passing tensors with different shapes, (3) passing Python objects instead of tensors. For (1), please define your @tf.function outside of the loop. For (2), @tf.function has experimental_relax_shapes=True option that relaxes argument shapes that can avoid unnecessary retracing. For (3), please refer to https://www.tensorflow.org/guide/function#controlling_retracing and https://www.tensorflow.org/api_docs/python/tf/function for  more details.\n"
     ]
    },
    {
     "ename": "TypeError",
     "evalue": "unsupported operand type(s) for +=: 'int' and 'NoneType'",
     "output_type": "error",
     "traceback": [
      "\u001b[0;31m---------------------------------------------------------------------------\u001b[0m",
      "\u001b[0;31mTypeError\u001b[0m                                 Traceback (most recent call last)",
      "\u001b[1;32m/home/st4eve/Hybrid_Network_Models/synthetic_data/FisherInformation.ipynb Cell 2\u001b[0m in \u001b[0;36m5\n\u001b[1;32m     <a href='vscode-notebook-cell://wsl%2Bubuntu/home/st4eve/Hybrid_Network_Models/synthetic_data/FisherInformation.ipynb#W1sdnNjb2RlLXJlbW90ZQ%3D%3D?line=49'>50</a>\u001b[0m \u001b[39mfor\u001b[39;00m i \u001b[39min\u001b[39;00m \u001b[39mrange\u001b[39m(n_iter):\n\u001b[1;32m     <a href='vscode-notebook-cell://wsl%2Bubuntu/home/st4eve/Hybrid_Network_Models/synthetic_data/FisherInformation.ipynb#W1sdnNjb2RlLXJlbW90ZQ%3D%3D?line=50'>51</a>\u001b[0m     means[n, \u001b[39m0\u001b[39m, \u001b[39m0\u001b[39m] \u001b[39m+\u001b[39m\u001b[39m=\u001b[39m grads[i][n]\n\u001b[0;32m---> <a href='vscode-notebook-cell://wsl%2Bubuntu/home/st4eve/Hybrid_Network_Models/synthetic_data/FisherInformation.ipynb#W1sdnNjb2RlLXJlbW90ZQ%3D%3D?line=51'>52</a>\u001b[0m     means[n, \u001b[39m1\u001b[39m, \u001b[39m0\u001b[39m] \u001b[39m+\u001b[39m\u001b[39m=\u001b[39m jacs[i][n]\n\u001b[1;32m     <a href='vscode-notebook-cell://wsl%2Bubuntu/home/st4eve/Hybrid_Network_Models/synthetic_data/FisherInformation.ipynb#W1sdnNjb2RlLXJlbW90ZQ%3D%3D?line=52'>53</a>\u001b[0m     means[n, \u001b[39m2\u001b[39m, \u001b[39m0\u001b[39m] \u001b[39m+\u001b[39m\u001b[39m=\u001b[39m losses[i][n]\n\u001b[1;32m     <a href='vscode-notebook-cell://wsl%2Bubuntu/home/st4eve/Hybrid_Network_Models/synthetic_data/FisherInformation.ipynb#W1sdnNjb2RlLXJlbW90ZQ%3D%3D?line=53'>54</a>\u001b[0m means[n, \u001b[39m0\u001b[39m, \u001b[39m0\u001b[39m] \u001b[39m/\u001b[39m\u001b[39m=\u001b[39m n_iter\n",
      "\u001b[0;31mTypeError\u001b[0m: unsupported operand type(s) for +=: 'int' and 'NoneType'"
     ]
    }
   ],
   "source": [
    "@tf.function\n",
    "def get_fim(model, inputs, outputs):\n",
    "    jac = []\n",
    "    with tf.GradientTape(persistent=True) as t2:\n",
    "        with tf.GradientTape() as t1:\n",
    "            t2.watch(model.trainable_variables)\n",
    "            t1.watch(model.trainable_variables)\n",
    "            loss = tf.keras.losses.KLDivergence(keras.losses.losses_utils.ReductionV2.NONE)\n",
    "            loss = loss(outputs, model(inputs))\n",
    "            grads = t1.gradient(loss, model.trainable_variables)\n",
    "        for i in range(len(grads)):\n",
    "            jac.append(t2.jacobian(grads[i], model.trainable_variables[i]))\n",
    "            t2.reset()\n",
    "    return grads, jac, loss\n",
    "\n",
    "\n",
    "n_features = 8\n",
    "n_classes = 2\n",
    "\n",
    "def get_model(n_features=n_features, n_classes=n_classes, n_layers=0, use_bias=False):\n",
    "    model = keras.Sequential([\n",
    "        keras.layers.Dense(n_features, activation='relu', use_bias=use_bias),\n",
    "        *[keras.layers.Dense(n_features, activation='relu', use_bias=use_bias) for _ in range(n_layers)],\n",
    "        keras.layers.Dense(n_classes, activation='softmax', use_bias=use_bias)])\n",
    "    return model\n",
    "\n",
    "(x_train, y_train), (x_test, y_test) = generate_synthetic_dataset_easy(num_datapoints=100, n_features=n_features, n_classes=n_classes)\n",
    "x_train = np.array(x_train)\n",
    "y_train = np.array(y_train)\n",
    "x_test = np.array(x_test)\n",
    "y_test = np.array(y_test)\n",
    "\n",
    "n_iter = 10\n",
    "grads = []\n",
    "jacs = []\n",
    "losses = []\n",
    "for i in range(n_iter):\n",
    "    model = get_model()\n",
    "    inputs = np.random.uniform(-1, 1, size=x_train.shape)\n",
    "    outputs = model(np.random.uniform(-1, 1, size=x_train.shape))\n",
    "    grad, jac, loss = get_fim(model, inputs, outputs)\n",
    "    grads.append(grad)\n",
    "    jacs.append(jac)\n",
    "    losses.append(loss)\n",
    "\n",
    "num_layers = len(model.trainable_variables)\n",
    "\n",
    "means = np.zeros((num_layers, 3, 1), dtype=object)\n",
    "for n in range(num_layers):\n",
    "    for i in range(n_iter):\n",
    "        means[n, 0, 0] += grads[i][n]\n",
    "        means[n, 1, 0] += jacs[i][n]\n",
    "        means[n, 2, 0] += losses[i][n]\n",
    "    means[n, 0, 0] /= n_iter\n",
    "    means[n, 1, 0] /= n_iter\n",
    "    means[n, 2, 0] /= n_iter\n",
    "\n",
    "grads = means[:, 0, 0]\n",
    "jac = means[:, 1, 0]\n",
    "loss = means[:, 2, 0] \n",
    "\n",
    "jac2 = np.outer(grads, grads)\n",
    "print(f'Jac2: {jac2.shape}')\n",
    "print(f'Loss: {loss.shape}')\n",
    "for i in range(len(grads)):\n",
    "    print(f'Grad {i}: {grads[i].shape}')\n",
    "    jac[i] = tf.concat(jac[i], axis=0)\n",
    "    print(f'Jac: {jac[i].shape}')\n",
    "\n",
    "\n",
    "eigvals = np.linalg.eigvals(tf.transpose(jac2)).real\n",
    "print(f'Mean: {np.mean(eigvals)}, Max: {np.max(eigvals)}, Min: {np.min(eigvals)}, STD: {np.std(eigvals)}')\n",
    "print(f'Shape: {eigvals.shape}')\n",
    "sns.histplot(eigvals.flatten(), bins=10)"
   ]
  },
  {
   "cell_type": "markdown",
   "metadata": {},
   "source": [
    "# Second Method\n",
    "Taken from https://github.com/amyami187/effective_dimension/blob/v1.0.0/effective_dimension/classical_nn.py"
   ]
  },
  {
   "cell_type": "code",
   "execution_count": 347,
   "metadata": {},
   "outputs": [
    {
     "name": "stdout",
     "output_type": "stream",
     "text": [
      "WARNING:tensorflow:5 out of the last 5 calls to <function get_grads at 0x7fb4c3c5fc70> triggered tf.function retracing. Tracing is expensive and the excessive number of tracings could be due to (1) creating @tf.function repeatedly in a loop, (2) passing tensors with different shapes, (3) passing Python objects instead of tensors. For (1), please define your @tf.function outside of the loop. For (2), @tf.function has experimental_relax_shapes=True option that relaxes argument shapes that can avoid unnecessary retracing. For (3), please refer to https://www.tensorflow.org/guide/function#controlling_retracing and https://www.tensorflow.org/api_docs/python/tf/function for  more details.\n",
      "WARNING:tensorflow:6 out of the last 6 calls to <function get_grads at 0x7fb4c3c5fc70> triggered tf.function retracing. Tracing is expensive and the excessive number of tracings could be due to (1) creating @tf.function repeatedly in a loop, (2) passing tensors with different shapes, (3) passing Python objects instead of tensors. For (1), please define your @tf.function outside of the loop. For (2), @tf.function has experimental_relax_shapes=True option that relaxes argument shapes that can avoid unnecessary retracing. For (3), please refer to https://www.tensorflow.org/guide/function#controlling_retracing and https://www.tensorflow.org/api_docs/python/tf/function for  more details.\n",
      "[ 1.99042399e-08 -2.02173518e-08  2.15082201e-08 -5.25322951e-09\n",
      "  2.80527044e-09 -1.97636010e-08  1.01197161e-08 -1.73528180e-08\n",
      "  1.63553350e-08  2.01230139e-08  1.12491894e-08 -4.66065245e-09\n",
      "  1.62584297e-08  1.30517148e-08 -7.09470553e-09  2.27980482e-08\n",
      "  2.00883269e-08  3.99541509e-09  4.25439521e-09  1.05377003e-08\n",
      "  3.48111386e-09  1.19141514e-08 -1.15554932e-08  1.13782586e-09\n",
      " -1.22856572e-08 -1.49734086e-08  1.29762990e-08 -1.35693250e-08\n",
      "  5.05403448e-09  7.40380046e-10  2.70001484e-08  1.26699545e-08\n",
      " -1.09576004e-08 -4.49294557e-10 -2.73542572e-09 -1.47395464e-08\n",
      "  1.25151727e-08 -3.58743746e-09 -1.24277729e-08  1.96256829e-08\n",
      " -1.06955163e-08  2.11275028e-08  2.43970617e-09 -9.82476742e-09\n",
      "  7.85332697e-09  1.20895111e-08 -1.10597960e-08  5.60815374e-09\n",
      "  4.80355126e-09  1.01598329e-08 -9.21763070e-09 -3.10971486e-09\n",
      " -4.15367731e-09 -1.14118348e-08  5.81052895e-10 -1.68669817e-08\n",
      "  1.07753924e-08  2.42699727e-09  1.32647866e-08  1.21477351e-08\n",
      "  9.01144994e-09 -4.24159416e-09 -2.56590921e-08 -1.56316531e-08\n",
      "  6.52785907e-08  5.20974383e-08  9.16450628e-08  1.05820909e-07\n",
      "  1.03727162e-07  9.59256020e-08  8.82339421e-08  7.06778524e-08\n",
      "  5.88680020e-08  4.08540255e-08  5.92343522e-08  3.92663803e-08\n",
      "  8.86255665e-08  8.68189482e-08  6.66007667e-08  5.33005787e-08]\n",
      "Inputs: (70, 8)\n",
      "Grad: (80,)\n",
      "Fisher: (80, 80)\n",
      "Mean: 1.284383890953061e-15, Max: 1.0275071127624487e-13, Min: -1.945647901097942e-30, STD: 1.1415853729259069e-14\n",
      "Shape: (80,)\n"
     ]
    },
    {
     "data": {
      "text/plain": [
       "<Axes: ylabel='Count'>"
      ]
     },
     "execution_count": 347,
     "metadata": {},
     "output_type": "execute_result"
    },
    {
     "data": {
      "image/png": "[encoded data removed]",
      "text/plain": [
       "<Figure size 640x480 with 1 Axes>"
      ]
     },
     "metadata": {},
     "output_type": "display_data"
    }
   ],
   "source": [
    "@tf.function\n",
    "def get_grads(inputs, model):\n",
    "    with tf.GradientTape() as t:\n",
    "        t.watch(model.trainable_variables)\n",
    "        outputs = model(inputs)\n",
    "    return t.gradient(outputs, model.trainable_variables)\n",
    "\n",
    "n_iter = 10\n",
    "\n",
    "\n",
    "model = get_model()\n",
    "inputs = np.random.uniform(-1, 1, size=x_train.shape)\n",
    "outputs = model(inputs)\n",
    "\n",
    "total_params = [inputs.shape[-1]] + [l.output_shape[1] for l in model.layers]\n",
    "total_params = sum([total_params[i]*total_params[i+1] for i in range(len(total_params)-1)])\n",
    "grads = np.zeros([n_iter, total_params])\n",
    "for i in range(n_iter):\n",
    "    model = get_model()\n",
    "    inputs = np.random.uniform(-1, 1, size=x_train.shape)\n",
    "    outputs = model(inputs)\n",
    "    grad = get_grads(inputs, model)\n",
    "    grads[i] = tf.concat([tf.reshape(g, [-1]) if g.ndim == 2 else g for g in grad ], axis=0)\n",
    "\n",
    "grads = np.mean(grads, axis=0)\n",
    "fishers = np.outer(grads, grads)\n",
    "print(f'Inputs: {inputs.shape}')\n",
    "print(f'Grad: {grads.shape}')\n",
    "print(f'Fisher: {fishers.shape}')\n",
    "\n",
    "eigvals = np.linalg.eigvals(tf.transpose(fishers)).real\n",
    "print(f'Mean: {np.mean(eigvals)}, Max: {np.max(eigvals)}, Min: {np.min(eigvals)}, STD: {np.std(eigvals)}')\n",
    "print(f'Shape: {eigvals.shape}')\n",
    "sns.histplot(eigvals.flatten(), bins=10)"
   ]
  }
 ],
 "metadata": {
  "kernelspec": {
   "display_name": "CVTrain",
   "language": "python",
   "name": "python3"
  },
  "language_info": {
   "codemirror_mode": {
    "name": "ipython",
    "version": 3
   },
   "file_extension": ".py",
   "mimetype": "text/x-python",
   "name": "python",
   "nbconvert_exporter": "python",
   "pygments_lexer": "ipython3",
   "version": "3.10.12"
  },
  "orig_nbformat": 4
 },
 "nbformat": 4,
 "nbformat_minor": 2
}

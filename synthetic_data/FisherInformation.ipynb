{
 "cells": [
  {
   "cell_type": "code",
   "execution_count": 1,
   "metadata": {},
   "outputs": [],
   "source": [
    "import numpy as np\n",
    "from matplotlib import pyplot as plt\n",
    "import matplotlib as mpl\n",
    "import tensorflow as tf\n",
    "import keras\n",
    "#mpl.use('pdf')\n",
    "import sys\n",
    "sys.path.append(\"../\")\n",
    "import copy\n",
    "from Plotting.generate_database import ResultsDatabaseGenerator\n",
    "from common_packages.utilities import get_equivalent_classical_layer_size, get_num_parameters_per_quantum_layer\n",
    "from quantum_base import Net as Net_orig\n",
    "from quantum_base_kerr import Net as Net_kerr\n",
    "from data import generate_synthetic_dataset_easy\n",
    "from Plotting.Plot import BasicPlot, MultiPlot\n",
    "tf.compat.v1.enable_eager_execution()\n",
    "import pandas as pd\n",
    "import seaborn as sns\n",
    "from CalculateFisherInformation import Calculate_Fisher_Information_Matrix\n",
    "colors =   [\"#5dd448\",\n",
    "            \"#bfa900\",\n",
    "            \"#ec742f\",\n",
    "            \"#e9496f\",\n",
    "            \"#b04ca4\",]\n",
    "\n",
    "colors = [\"#332288\", \"#88CCEE\", \"#44AA99\", \"#117733\", \"#999933\", \"#DDCC77\", \"#CC6677\", \"#882255\", \"#AA4499\"]\n",
    "mpl.rcParams['axes.prop_cycle'] = mpl.cycler(color=colors)\n",
    "mpl.rcParams['mathtext.fontset'] = 'stix'\n",
    "mpl.rcParams[\"font.family\"] = \"sans-serif\"\n",
    "plt.rcParams[\"font.size\"] = 12\n",
    "plt.rcParams[\"axes.linewidth\"] = 0.5\n",
    "\n",
    "tf.random.set_seed(None)\n",
    "\n",
    "%load_ext autoreload\n",
    "%autoreload 2"
   ]
  },
  {
   "cell_type": "markdown",
   "metadata": {},
   "source": [
    "# Second Method\n",
    "Taken from https://github.com/amyami187/effective_dimension/blob/v1.0.0/effective_dimension/classical_nn.py"
   ]
  },
  {
   "cell_type": "code",
   "execution_count": 2,
   "metadata": {},
   "outputs": [
    {
     "name": "stderr",
     "output_type": "stream",
     "text": [
      "2023-08-29 18:20:01.541494: I tensorflow/stream_executor/cuda/cuda_gpu_executor.cc:922] could not open file to read NUMA node: /sys/bus/pci/devices/0000:01:00.0/numa_node\n",
      "Your kernel may have been built without NUMA support.\n",
      "2023-08-29 18:20:01.541883: W tensorflow/stream_executor/platform/default/dso_loader.cc:64] Could not load dynamic library 'libcudart.so.11.0'; dlerror: libcudart.so.11.0: cannot open shared object file: No such file or directory; LD_LIBRARY_PATH: /usr/local/lib64:\n",
      "2023-08-29 18:20:01.542029: W tensorflow/stream_executor/platform/default/dso_loader.cc:64] Could not load dynamic library 'libcublas.so.11'; dlerror: libcublas.so.11: cannot open shared object file: No such file or directory; LD_LIBRARY_PATH: /usr/local/lib64:\n",
      "2023-08-29 18:20:01.542181: W tensorflow/stream_executor/platform/default/dso_loader.cc:64] Could not load dynamic library 'libcublasLt.so.11'; dlerror: libcublasLt.so.11: cannot open shared object file: No such file or directory; LD_LIBRARY_PATH: /usr/local/lib64:\n",
      "2023-08-29 18:20:01.542304: W tensorflow/stream_executor/platform/default/dso_loader.cc:64] Could not load dynamic library 'libcufft.so.10'; dlerror: libcufft.so.10: cannot open shared object file: No such file or directory; LD_LIBRARY_PATH: /usr/local/lib64:\n",
      "2023-08-29 18:20:01.542417: W tensorflow/stream_executor/platform/default/dso_loader.cc:64] Could not load dynamic library 'libcurand.so.10'; dlerror: libcurand.so.10: cannot open shared object file: No such file or directory; LD_LIBRARY_PATH: /usr/local/lib64:\n",
      "2023-08-29 18:20:01.542572: W tensorflow/stream_executor/platform/default/dso_loader.cc:64] Could not load dynamic library 'libcusolver.so.11'; dlerror: libcusolver.so.11: cannot open shared object file: No such file or directory; LD_LIBRARY_PATH: /usr/local/lib64:\n",
      "2023-08-29 18:20:01.542687: W tensorflow/stream_executor/platform/default/dso_loader.cc:64] Could not load dynamic library 'libcusparse.so.11'; dlerror: libcusparse.so.11: cannot open shared object file: No such file or directory; LD_LIBRARY_PATH: /usr/local/lib64:\n",
      "2023-08-29 18:20:01.542783: W tensorflow/stream_executor/platform/default/dso_loader.cc:64] Could not load dynamic library 'libcudnn.so.8'; dlerror: libcudnn.so.8: cannot open shared object file: No such file or directory; LD_LIBRARY_PATH: /usr/local/lib64:\n",
      "2023-08-29 18:20:01.542795: W tensorflow/core/common_runtime/gpu/gpu_device.cc:1850] Cannot dlopen some GPU libraries. Please make sure the missing libraries mentioned above are installed properly if you would like to use GPU. Follow the guide at https://www.tensorflow.org/install/gpu for how to download and setup the required libraries for your platform.\n",
      "Skipping registering GPU devices...\n",
      "2023-08-29 18:20:01.544178: I tensorflow/core/platform/cpu_feature_guard.cc:151] This TensorFlow binary is optimized with oneAPI Deep Neural Network Library (oneDNN) to use the following CPU instructions in performance-critical operations:  AVX2 FMA\n",
      "To enable them in other operations, rebuild TensorFlow with the appropriate compiler flags.\n"
     ]
    },
    {
     "name": "stdout",
     "output_type": "stream",
     "text": [
      "Model: \"net\"\n",
      "_________________________________________________________________\n",
      " Layer (type)                Output Shape              Param #   \n",
      "=================================================================\n",
      " sequential (Sequential)     (1, 4)                    36        \n",
      "                                                                 \n",
      " sequential_1 (Sequential)   (1, 4)                    20        \n",
      "                                                                 \n",
      " sequential_2 (Sequential)   (1, 4)                    20        \n",
      "                                                                 \n",
      "=================================================================\n",
      "Total params: 76\n",
      "Trainable params: 56\n",
      "Non-trainable params: 20\n",
      "_________________________________________________________________\n"
     ]
    },
    {
     "data": {
      "text/plain": [
       "None"
      ]
     },
     "metadata": {},
     "output_type": "display_data"
    },
    {
     "ename": "AttributeError",
     "evalue": "'Sequential' object has no attribute 'use_bias'",
     "output_type": "error",
     "traceback": [
      "\u001b[0;31m---------------------------------------------------------------------------\u001b[0m",
      "\u001b[0;31mAttributeError\u001b[0m                            Traceback (most recent call last)",
      "\u001b[1;32m/home/st4eve/Hybrid_Network_Models/synthetic_data/FisherInformation.ipynb Cell 3\u001b[0m in \u001b[0;36m7\n\u001b[1;32m     <a href='vscode-notebook-cell://wsl%2Bubuntu/home/st4eve/Hybrid_Network_Models/synthetic_data/FisherInformation.ipynb#W3sdnNjb2RlLXJlbW90ZQ%3D%3D?line=71'>72</a>\u001b[0m input_shape \u001b[39m=\u001b[39m x_train\u001b[39m.\u001b[39mshape[\u001b[39m0\u001b[39m:]\n\u001b[1;32m     <a href='vscode-notebook-cell://wsl%2Bubuntu/home/st4eve/Hybrid_Network_Models/synthetic_data/FisherInformation.ipynb#W3sdnNjb2RlLXJlbW90ZQ%3D%3D?line=72'>73</a>\u001b[0m inputs \u001b[39m=\u001b[39m np\u001b[39m.\u001b[39mrandom\u001b[39m.\u001b[39muniform(\u001b[39m-\u001b[39m\u001b[39m1\u001b[39m, \u001b[39m1\u001b[39m, size\u001b[39m=\u001b[39m[n_iter] \u001b[39m+\u001b[39m \u001b[39mlist\u001b[39m(x_train\u001b[39m.\u001b[39mshape))\n\u001b[0;32m---> <a href='vscode-notebook-cell://wsl%2Bubuntu/home/st4eve/Hybrid_Network_Models/synthetic_data/FisherInformation.ipynb#W3sdnNjb2RlLXJlbW90ZQ%3D%3D?line=73'>74</a>\u001b[0m total_params \u001b[39m=\u001b[39m calc_total_params(inputs[\u001b[39m0\u001b[39;49m], model)\n\u001b[1;32m     <a href='vscode-notebook-cell://wsl%2Bubuntu/home/st4eve/Hybrid_Network_Models/synthetic_data/FisherInformation.ipynb#W3sdnNjb2RlLXJlbW90ZQ%3D%3D?line=74'>75</a>\u001b[0m grads \u001b[39m=\u001b[39m get_all_grads(inputs, models)\n\u001b[1;32m     <a href='vscode-notebook-cell://wsl%2Bubuntu/home/st4eve/Hybrid_Network_Models/synthetic_data/FisherInformation.ipynb#W3sdnNjb2RlLXJlbW90ZQ%3D%3D?line=75'>76</a>\u001b[0m \u001b[39mprint\u001b[39m(grads\u001b[39m.\u001b[39mshape)\n",
      "\u001b[1;32m/home/st4eve/Hybrid_Network_Models/synthetic_data/FisherInformation.ipynb Cell 3\u001b[0m in \u001b[0;36m1\n\u001b[1;32m     <a href='vscode-notebook-cell://wsl%2Bubuntu/home/st4eve/Hybrid_Network_Models/synthetic_data/FisherInformation.ipynb#W3sdnNjb2RlLXJlbW90ZQ%3D%3D?line=9'>10</a>\u001b[0m outputs \u001b[39m=\u001b[39m model(inputs)\n\u001b[1;32m     <a href='vscode-notebook-cell://wsl%2Bubuntu/home/st4eve/Hybrid_Network_Models/synthetic_data/FisherInformation.ipynb#W3sdnNjb2RlLXJlbW90ZQ%3D%3D?line=10'>11</a>\u001b[0m total_params \u001b[39m=\u001b[39m [inputs\u001b[39m.\u001b[39mshape[\u001b[39m-\u001b[39m\u001b[39m1\u001b[39m]] \u001b[39m+\u001b[39m [l\u001b[39m.\u001b[39moutput_shape[\u001b[39m1\u001b[39m] \u001b[39mfor\u001b[39;00m l \u001b[39min\u001b[39;00m model\u001b[39m.\u001b[39mlayers]\n\u001b[0;32m---> <a href='vscode-notebook-cell://wsl%2Bubuntu/home/st4eve/Hybrid_Network_Models/synthetic_data/FisherInformation.ipynb#W3sdnNjb2RlLXJlbW90ZQ%3D%3D?line=11'>12</a>\u001b[0m total_params \u001b[39m=\u001b[39m \u001b[39msum\u001b[39m([total_params[i]\u001b[39m*\u001b[39mtotal_params[i\u001b[39m+\u001b[39m\u001b[39m1\u001b[39m] \u001b[39mfor\u001b[39;00m i \u001b[39min\u001b[39;00m \u001b[39mrange\u001b[39m(\u001b[39mlen\u001b[39m(total_params)\u001b[39m-\u001b[39m\u001b[39m1\u001b[39m)]) \u001b[39m+\u001b[39m (\u001b[39msum\u001b[39m(total_params[\u001b[39m1\u001b[39m:]) \u001b[39mif\u001b[39;00m model\u001b[39m.\u001b[39;49mlayers[\u001b[39m1\u001b[39;49m]\u001b[39m.\u001b[39;49muse_bias \u001b[39melse\u001b[39;00m \u001b[39m0\u001b[39m)\n\u001b[1;32m     <a href='vscode-notebook-cell://wsl%2Bubuntu/home/st4eve/Hybrid_Network_Models/synthetic_data/FisherInformation.ipynb#W3sdnNjb2RlLXJlbW90ZQ%3D%3D?line=12'>13</a>\u001b[0m \u001b[39mreturn\u001b[39;00m total_params\n",
      "\u001b[0;31mAttributeError\u001b[0m: 'Sequential' object has no attribute 'use_bias'"
     ]
    }
   ],
   "source": [
    "@tf.function\n",
    "def get_grads(inputs, model):\n",
    "    with tf.GradientTape() as t:\n",
    "        t.watch(model.trainable_variables)\n",
    "        outputs = model(inputs)\n",
    "    return t.jacobian(outputs, model.trainable_variables)\n",
    "\n",
    "\n",
    "def calc_total_params(inputs, model):\n",
    "    outputs = model(inputs)\n",
    "    total_params = [inputs.shape[-1]] + [l.output_shape[1] for l in model.layers]\n",
    "    total_params = sum([total_params[i]*total_params[i+1] for i in range(len(total_params)-1)]) + (sum(total_params[1:]) if model.layers[1].use_bias else 0)\n",
    "    return total_params\n",
    "\n",
    "\n",
    "\n",
    "def get_fisher(grads=np.array([[[]]]), total_params=0, n_classes=0, n_iter=10):\n",
    "    fishers = np.zeros([len(grads), total_params, total_params])\n",
    "    for i in range(len(grads)):\n",
    "        grad = grads[i]\n",
    "        temp_sum = np.zeros([n_classes, total_params, total_params])\n",
    "        for j in range(n_classes):\n",
    "            temp_sum[j] += np.outer(grad[j], np.transpose(grad[j]))\n",
    "        fishers[i] = np.sum(temp_sum, axis=0)\n",
    "    return fishers\n",
    "\n",
    "def process_fishers(fishers, total_params, n_iter, num_datapoints, param_vol=1):\n",
    "    fisher_trace = np.trace(np.mean(fishers, axis=0))\n",
    "    fishers = np.mean(np.reshape(fishers, [n_iter, int(num_datapoints*0.7), total_params, total_params]), axis=0)\n",
    "    fhat = fishers * total_params * param_vol / fisher_trace\n",
    "    return fhat, fisher_trace\n",
    "\n",
    "def get_all_grads(inputs, models):\n",
    "    total_params = calc_total_params(inputs[0], models[0])\n",
    "    grads = np.zeros([len(inputs), len(inputs[0]), n_classes, total_params]) \n",
    "    for count,(i,m) in enumerate(zip(inputs, models)):\n",
    "        outputs = m(i)\n",
    "        grad = get_grads(i, model)\n",
    "        grad = tf.concat([tf.reshape(g, [g.shape[0], g.shape[1], tf.reduce_prod(g.shape[2:])]) for g in grad], axis=-1).numpy()\n",
    "        grads[count] = grad\n",
    "    grads = grads.reshape([len(inputs) * len(inputs[0]), n_classes, total_params])\n",
    "    return grads\n",
    "\n",
    "    \n",
    "\n",
    "n_features = 8\n",
    "n_classes = 4\n",
    "n_layers = 1\n",
    "num_datapoints = 100\n",
    "n_iter = 100\n",
    "\n",
    "(x_train, y_train), (x_test, y_test) = generate_synthetic_dataset_easy(num_datapoints=num_datapoints, n_features=n_features, n_classes=n_classes)\n",
    "x_train = np.array(x_train)\n",
    "y_train = np.array(y_train)\n",
    "x_test = np.array(x_test)\n",
    "y_test = np.array(y_test)\n",
    "\n",
    "model_func = lambda : Net(\n",
    "    network_type='classical',\n",
    "    n_layers=1,\n",
    "    num_qumodes=2,\n",
    "    cutoff=2,\n",
    "    max_initial_weight=0.1\n",
    "\n",
    ")\n",
    "\n",
    "model = model_func()\n",
    "model(x_train[0:1])\n",
    "display(model.summary())\n",
    "models = [model_func() for _ in range(n_iter)]\n",
    "\n",
    "input_shape = x_train.shape[0:]\n",
    "inputs = np.random.uniform(-1, 1, size=[n_iter] + list(x_train.shape))\n",
    "total_params = calc_total_params(inputs[0], model)\n",
    "grads = get_all_grads(inputs, models)\n",
    "print(grads.shape)\n",
    "fishers = get_fisher(grads=grads, total_params=total_params, n_classes=n_classes, n_iter=n_iter)\n",
    "fhat, fisher_trace = process_fishers(fishers, total_params, n_iter=n_iter, num_datapoints=num_datapoints)\n",
    "\n",
    "print(f'Inputs: {inputs[0].shape}')\n",
    "print(f'Grad: {grads.shape}')\n",
    "print(f'Fisher: {fishers.shape}')\n",
    "print(f'Fhat: {fhat.shape}')\n",
    "\n",
    "eigvals = np.linalg.eigvals(fhat).real\n",
    "print(f'Mean: {np.mean(eigvals)}, Max: {np.max(eigvals)}, Min: {np.min(eigvals)}, STD: {np.std(eigvals)}')\n",
    "print(f'Eigvals: {eigvals.shape}')\n",
    "eigvals = eigvals.flatten()\n",
    "sns.boxplot(eigvals)\n",
    "plt.show()\n",
    "sns.boxplot(eigvals[eigvals < 1])\n",
    "\n",
    "print(len(eigvals[eigvals < 1])/len(eigvals))"
   ]
  },
  {
   "cell_type": "code",
   "execution_count": 2,
   "metadata": {},
   "outputs": [
    {
     "name": "stderr",
     "output_type": "stream",
     "text": [
      "2023-08-29 18:48:35.690419: I tensorflow/stream_executor/cuda/cuda_gpu_executor.cc:922] could not open file to read NUMA node: /sys/bus/pci/devices/0000:01:00.0/numa_node\n",
      "Your kernel may have been built without NUMA support.\n",
      "2023-08-29 18:48:35.690916: W tensorflow/stream_executor/platform/default/dso_loader.cc:64] Could not load dynamic library 'libcudart.so.11.0'; dlerror: libcudart.so.11.0: cannot open shared object file: No such file or directory; LD_LIBRARY_PATH: /usr/local/lib64:\n",
      "2023-08-29 18:48:35.691036: W tensorflow/stream_executor/platform/default/dso_loader.cc:64] Could not load dynamic library 'libcublas.so.11'; dlerror: libcublas.so.11: cannot open shared object file: No such file or directory; LD_LIBRARY_PATH: /usr/local/lib64:\n",
      "2023-08-29 18:48:35.691107: W tensorflow/stream_executor/platform/default/dso_loader.cc:64] Could not load dynamic library 'libcublasLt.so.11'; dlerror: libcublasLt.so.11: cannot open shared object file: No such file or directory; LD_LIBRARY_PATH: /usr/local/lib64:\n",
      "2023-08-29 18:48:35.691235: W tensorflow/stream_executor/platform/default/dso_loader.cc:64] Could not load dynamic library 'libcufft.so.10'; dlerror: libcufft.so.10: cannot open shared object file: No such file or directory; LD_LIBRARY_PATH: /usr/local/lib64:\n",
      "2023-08-29 18:48:35.691309: W tensorflow/stream_executor/platform/default/dso_loader.cc:64] Could not load dynamic library 'libcurand.so.10'; dlerror: libcurand.so.10: cannot open shared object file: No such file or directory; LD_LIBRARY_PATH: /usr/local/lib64:\n",
      "2023-08-29 18:48:35.691378: W tensorflow/stream_executor/platform/default/dso_loader.cc:64] Could not load dynamic library 'libcusolver.so.11'; dlerror: libcusolver.so.11: cannot open shared object file: No such file or directory; LD_LIBRARY_PATH: /usr/local/lib64:\n",
      "2023-08-29 18:48:35.691442: W tensorflow/stream_executor/platform/default/dso_loader.cc:64] Could not load dynamic library 'libcusparse.so.11'; dlerror: libcusparse.so.11: cannot open shared object file: No such file or directory; LD_LIBRARY_PATH: /usr/local/lib64:\n",
      "2023-08-29 18:48:35.691537: W tensorflow/stream_executor/platform/default/dso_loader.cc:64] Could not load dynamic library 'libcudnn.so.8'; dlerror: libcudnn.so.8: cannot open shared object file: No such file or directory; LD_LIBRARY_PATH: /usr/local/lib64:\n",
      "2023-08-29 18:48:35.691661: W tensorflow/core/common_runtime/gpu/gpu_device.cc:1850] Cannot dlopen some GPU libraries. Please make sure the missing libraries mentioned above are installed properly if you would like to use GPU. Follow the guide at https://www.tensorflow.org/install/gpu for how to download and setup the required libraries for your platform.\n",
      "Skipping registering GPU devices...\n",
      "2023-08-29 18:48:35.692600: I tensorflow/core/platform/cpu_feature_guard.cc:151] This TensorFlow binary is optimized with oneAPI Deep Neural Network Library (oneDNN) to use the following CPU instructions in performance-critical operations:  AVX2 FMA\n",
      "To enable them in other operations, rebuild TensorFlow with the appropriate compiler flags.\n"
     ]
    },
    {
     "name": "stdout",
     "output_type": "stream",
     "text": [
      "tf.Tensor([[0.25 0.25 0.25 0.25]], shape=(1, 4), dtype=float32)\n",
      "Model: \"net\"\n",
      "_________________________________________________________________\n",
      " Layer (type)                Output Shape              Param #   \n",
      "=================================================================\n",
      " sequential (Sequential)     (1, 10)                   30        \n",
      "                                                                 \n",
      " quantum_layer__multi_qunode  multiple                 54        \n",
      "  (QuantumLayer_MultiQunode)                                     \n",
      "                                                                 \n",
      " sequential_1 (Sequential)   (1, 4)                    12        \n",
      "                                                                 \n",
      "=================================================================\n",
      "Total params: 96\n",
      "Trainable params: 96\n",
      "Non-trainable params: 0\n",
      "_________________________________________________________________\n"
     ]
    },
    {
     "data": {
      "text/plain": [
       "None"
      ]
     },
     "metadata": {},
     "output_type": "display_data"
    },
    {
     "name": "stdout",
     "output_type": "stream",
     "text": [
      "WARNING:tensorflow:5 out of the last 5 calls to <function pfor.<locals>.f at 0x7f8d48e1caf0> triggered tf.function retracing. Tracing is expensive and the excessive number of tracings could be due to (1) creating @tf.function repeatedly in a loop, (2) passing tensors with different shapes, (3) passing Python objects instead of tensors. For (1), please define your @tf.function outside of the loop. For (2), @tf.function has experimental_relax_shapes=True option that relaxes argument shapes that can avoid unnecessary retracing. For (3), please refer to https://www.tensorflow.org/guide/function#controlling_retracing and https://www.tensorflow.org/api_docs/python/tf/function for  more details.\n"
     ]
    },
    {
     "ename": "",
     "evalue": "",
     "output_type": "error",
     "traceback": [
      "\u001b[1;31mThe Kernel crashed while executing code in the the current cell or a previous cell. Please review the code in the cell(s) to identify a possible cause of the failure. Click <a href='https://aka.ms/vscodeJupyterKernelCrash'>here</a> for more info. View Jupyter <a href='command:jupyter.viewOutput'>log</a> for further details."
     ]
    }
   ],
   "source": [
    "model_func = lambda : Net_kerr(\n",
    "    network_type='quantum',\n",
    "    n_layers=3,\n",
    "    num_qumodes=2,\n",
    "    cutoff=2,\n",
    "    max_initial_weight=0.1\n",
    ")\n",
    "\n",
    "# model_func = lambda : keras.models.Sequential([\n",
    "#         keras.layers.Dense(4, activation='relu', kernel_initializer='random_uniform'),\n",
    "#         keras.layers.Dense(4, activation='relu', kernel_initializer='random_uniform'),\n",
    "#         keras.layers.Dense(2, activation='softmax', kernel_initializer='random_uniform')\n",
    "#     ])\n",
    "\n",
    "x_train = np.random.uniform(-1, 1, size=[20, 2])\n",
    "\n",
    "model = model_func()\n",
    "print(model(x_train[0:1]))\n",
    "\n",
    "display(model.summary())\n",
    "fisher_obj = Calculate_Fisher_Information_Matrix(\n",
    "    model_func=model_func,\n",
    "    x_train=x_train,\n",
    "    n_iter=5,\n",
    ")\n",
    "\n",
    "fhat = fisher_obj.get_fhat()\n",
    "fhat_eigvals = fisher_obj.calc_eigvals().flatten()\n",
    "\n",
    "\n",
    "\n"
   ]
  },
  {
   "cell_type": "code",
   "execution_count": 4,
   "metadata": {},
   "outputs": [
    {
     "name": "stdout",
     "output_type": "stream",
     "text": [
      "1.0\n",
      "Mean: 1.0000000000000004, Max: 36.24596114931165, Min: -1.3789116117387576e-15, STD: 4.67598942313236\n"
     ]
    },
    {
     "data": {
      "image/png": "[encoded data removed]",
      "text/plain": [
       "<Figure size 640x480 with 1 Axes>"
      ]
     },
     "metadata": {},
     "output_type": "display_data"
    },
    {
     "name": "stdout",
     "output_type": "stream",
     "text": [
      "0.8962121212121212\n"
     ]
    },
    {
     "data": {
      "image/png": "[encoded data removed]",
      "text/plain": [
       "<Figure size 640x480 with 1 Axes>"
      ]
     },
     "metadata": {},
     "output_type": "display_data"
    }
   ],
   "source": [
    "print(fisher_obj.param_vol)\n",
    "print(f'Mean: {np.mean(fhat_eigvals)}, Max: {np.max(fhat_eigvals)}, Min: {np.min(fhat_eigvals)}, STD: {np.std(fhat_eigvals)}')\n",
    "sns.boxplot(fhat_eigvals)\n",
    "plt.show()\n",
    "sns.boxplot(fhat_eigvals[fhat_eigvals < 1])\n",
    "print(len(fhat_eigvals[fhat_eigvals < 1])/len(fhat_eigvals))"
   ]
  }
 ],
 "metadata": {
  "kernelspec": {
   "display_name": "CVTrain",
   "language": "python",
   "name": "python3"
  },
  "language_info": {
   "codemirror_mode": {
    "name": "ipython",
    "version": 3
   },
   "file_extension": ".py",
   "mimetype": "text/x-python",
   "name": "python",
   "nbconvert_exporter": "python",
   "pygments_lexer": "ipython3",
   "version": "3.10.12"
  },
  "orig_nbformat": 4
 },
 "nbformat": 4,
 "nbformat_minor": 2
}
